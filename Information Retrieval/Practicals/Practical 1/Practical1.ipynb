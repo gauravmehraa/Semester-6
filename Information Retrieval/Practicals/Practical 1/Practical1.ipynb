{
 "cells": [
  {
   "cell_type": "code",
   "execution_count": 1,
   "id": "3b9a3cf2-3dc8-4abf-b527-64881ca09ab9",
   "metadata": {},
   "outputs": [
    {
     "name": "stdout",
     "output_type": "stream",
     "text": [
      "hello world\n",
      "line 1\n",
      "line2\n",
      "abcdef\n"
     ]
    }
   ],
   "source": [
    "with open('sample.txt') as f:\n",
    "    print(f.read())"
   ]
  },
  {
   "cell_type": "code",
   "execution_count": 5,
   "id": "2b741d27-ccd8-4750-bb72-f639d9ea2c66",
   "metadata": {},
   "outputs": [],
   "source": [
    "data = 'this is data for new file'\n",
    "with open('new.txt', 'w+') as f:\n",
    "    f.write(data)"
   ]
  },
  {
   "cell_type": "code",
   "execution_count": 8,
   "id": "ec58e181-ba07-4902-81e7-41e5bbbc19b9",
   "metadata": {},
   "outputs": [],
   "source": [
    "newdata = '\\nnew lines for new file'\n",
    "with open('new.txt', 'a') as f:\n",
    "    f.write(newdata)"
   ]
  },
  {
   "cell_type": "code",
   "execution_count": 9,
   "id": "d9d46ec4-888c-4b3b-af41-06b8882e5265",
   "metadata": {},
   "outputs": [
    {
     "name": "stdout",
     "output_type": "stream",
     "text": [
      "this is data for new file\n",
      "new lines for new file\n"
     ]
    }
   ],
   "source": [
    "with open('new.txt') as f:\n",
    "    print(f.read())"
   ]
  },
  {
   "cell_type": "code",
   "execution_count": 10,
   "id": "a02f9ad7-bdbf-40b1-9da1-33c037033943",
   "metadata": {},
   "outputs": [
    {
     "name": "stdout",
     "output_type": "stream",
     "text": [
      "Requirement already satisfied: nltk in c:\\users\\admin\\anaconda3\\lib\\site-packages (3.8.1)\n",
      "Requirement already satisfied: click in c:\\users\\admin\\anaconda3\\lib\\site-packages (from nltk) (8.1.7)\n",
      "Requirement already satisfied: joblib in c:\\users\\admin\\anaconda3\\lib\\site-packages (from nltk) (1.4.2)\n",
      "Requirement already satisfied: regex>=2021.8.3 in c:\\users\\admin\\anaconda3\\lib\\site-packages (from nltk) (2023.10.3)\n",
      "Requirement already satisfied: tqdm in c:\\users\\admin\\anaconda3\\lib\\site-packages (from nltk) (4.66.4)\n",
      "Requirement already satisfied: colorama in c:\\users\\admin\\anaconda3\\lib\\site-packages (from click->nltk) (0.4.6)\n"
     ]
    }
   ],
   "source": [
    "!pip install nltk"
   ]
  },
  {
   "cell_type": "code",
   "execution_count": 11,
   "id": "ae973dff-d03e-4749-a960-b03dfa08bb3c",
   "metadata": {},
   "outputs": [
    {
     "name": "stdout",
     "output_type": "stream",
     "text": [
      "['i', 'me', 'my', 'myself', 'we', 'our', 'ours', 'ourselves', 'you', \"you're\", \"you've\", \"you'll\", \"you'd\", 'your', 'yours', 'yourself', 'yourselves', 'he', 'him', 'his', 'himself', 'she', \"she's\", 'her', 'hers', 'herself', 'it', \"it's\", 'its', 'itself', 'they', 'them', 'their', 'theirs', 'themselves', 'what', 'which', 'who', 'whom', 'this', 'that', \"that'll\", 'these', 'those', 'am', 'is', 'are', 'was', 'were', 'be', 'been', 'being', 'have', 'has', 'had', 'having', 'do', 'does', 'did', 'doing', 'a', 'an', 'the', 'and', 'but', 'if', 'or', 'because', 'as', 'until', 'while', 'of', 'at', 'by', 'for', 'with', 'about', 'against', 'between', 'into', 'through', 'during', 'before', 'after', 'above', 'below', 'to', 'from', 'up', 'down', 'in', 'out', 'on', 'off', 'over', 'under', 'again', 'further', 'then', 'once', 'here', 'there', 'when', 'where', 'why', 'how', 'all', 'any', 'both', 'each', 'few', 'more', 'most', 'other', 'some', 'such', 'no', 'nor', 'not', 'only', 'own', 'same', 'so', 'than', 'too', 'very', 's', 't', 'can', 'will', 'just', 'don', \"don't\", 'should', \"should've\", 'now', 'd', 'll', 'm', 'o', 're', 've', 'y', 'ain', 'aren', \"aren't\", 'couldn', \"couldn't\", 'didn', \"didn't\", 'doesn', \"doesn't\", 'hadn', \"hadn't\", 'hasn', \"hasn't\", 'haven', \"haven't\", 'isn', \"isn't\", 'ma', 'mightn', \"mightn't\", 'mustn', \"mustn't\", 'needn', \"needn't\", 'shan', \"shan't\", 'shouldn', \"shouldn't\", 'wasn', \"wasn't\", 'weren', \"weren't\", 'won', \"won't\", 'wouldn', \"wouldn't\"]\n"
     ]
    },
    {
     "name": "stderr",
     "output_type": "stream",
     "text": [
      "[nltk_data] Downloading package stopwords to\n",
      "[nltk_data]     C:\\Users\\Admin\\AppData\\Roaming\\nltk_data...\n",
      "[nltk_data]   Package stopwords is already up-to-date!\n"
     ]
    }
   ],
   "source": [
    "import nltk\n",
    "from nltk.corpus import stopwords\n",
    " \n",
    "nltk.download('stopwords')\n",
    "print(stopwords.words('english'))"
   ]
  },
  {
   "cell_type": "code",
   "execution_count": 40,
   "id": "b2ddceb1-9035-4050-a34b-76b435c3b5ce",
   "metadata": {},
   "outputs": [],
   "source": [
    "from nltk.corpus import stopwords\n",
    "\n",
    "def stopword_removal(originalfile, newfile):\n",
    "    stopwords = set(stopwords.words('english'))\n",
    "    with open(originalfile) as f:\n",
    "        text = f.read()\n",
    "        data = ''.join(char for char in text if char.isalnum() or char.isspace())\n",
    "        tokens = data.lower().split()\n",
    "    \n",
    "    with open (newfile, 'w') as f:\n",
    "        data = [token for token in tokens if token not in stopwords]\n",
    "        f.write(' '.join(data))\n",
    "\n",
    "stopword_removal('raw.txt', 'filtered.txt')"
   ]
  },
  {
   "cell_type": "code",
   "execution_count": 106,
   "id": "c1b5a521-d057-4359-aaa0-749f2f987426",
   "metadata": {},
   "outputs": [
    {
     "name": "stdin",
     "output_type": "stream",
     "text": [
      "Enter query:  machine kings\n"
     ]
    },
    {
     "name": "stdout",
     "output_type": "stream",
     "text": [
      "[0, 1, 0, 0, 0]\n"
     ]
    }
   ],
   "source": [
    "from nltk.corpus import stopwords\n",
    "\n",
    "def stopword_removal(originalfile, newfile):\n",
    "    stop_words = set(stopwords.words('english'))\n",
    "    with open(originalfile) as f:\n",
    "        text = f.read()\n",
    "        data = ''.join(char for char in text if char.isalnum() or char.isspace())\n",
    "        tokens = data.lower().split()\n",
    "    \n",
    "    with open (newfile, 'w') as f:\n",
    "        data = [token for token in tokens if token not in stop_words]\n",
    "        f.write(' '.join(data))\n",
    "\n",
    "def incidence_matrix(n):\n",
    "    words = []\n",
    "    text = []\n",
    "    positions = {}\n",
    "    seen = set()\n",
    "    for i in range(1, 6):\n",
    "        new_file = f\"filtered{i}.txt\"\n",
    "        stopword_removal(f\"raw{i}.txt\", new_file)\n",
    "        \n",
    "        with open(new_file, 'r') as f:\n",
    "            data = f.read().split()\n",
    "            text.append(data)\n",
    "            for word in data:\n",
    "                if word not in seen: words.append(word)\n",
    "                seen.add(word)\n",
    "    \n",
    "    row = 1\n",
    "    for word in words:\n",
    "        frequency = []\n",
    "        for i in range(5):\n",
    "            frequency.append(1 if word in text[i] else 0)\n",
    "        matrix.append([word] + frequency)\n",
    "        positions[word] = row\n",
    "        row += 1\n",
    "\n",
    "    return matrix\n",
    "\n",
    "def search(query, matrix):\n",
    "    terms = query.split()\n",
    "    rows = []\n",
    "    result = [1 for _ in range(len(matrix[0]))]\n",
    "    for term in terms:\n",
    "        rownumber = positions[term]\n",
    "        rows.append(matrix[rownumber][1:])\n",
    "        \n",
    "    for i in range(len(matrix[0])):\n",
    "        for row in rows:\n",
    "            result[i] &= row[i]\n",
    "    return result\n",
    "\n",
    "matrix = incidence_matrix(5)\n",
    "query = input(\"Enter query: \")\n",
    "result = search(query, matrix)\n",
    "print(result)"
   ]
  },
  {
   "cell_type": "code",
   "execution_count": null,
   "id": "5b7fa981-75c4-4ef2-8955-8a6112cc3d7e",
   "metadata": {},
   "outputs": [],
   "source": []
  }
 ],
 "metadata": {
  "kernelspec": {
   "display_name": "Python 3 (ipykernel)",
   "language": "python",
   "name": "python3"
  },
  "language_info": {
   "codemirror_mode": {
    "name": "ipython",
    "version": 3
   },
   "file_extension": ".py",
   "mimetype": "text/x-python",
   "name": "python",
   "nbconvert_exporter": "python",
   "pygments_lexer": "ipython3",
   "version": "3.12.4"
  }
 },
 "nbformat": 4,
 "nbformat_minor": 5
}
