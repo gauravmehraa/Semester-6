{
 "cells": [
  {
   "cell_type": "code",
   "execution_count": 52,
   "id": "82a964bb-5169-4405-bc97-30a1f0ccc8e0",
   "metadata": {
    "scrolled": true
   },
   "outputs": [
    {
     "name": "stdout",
     "output_type": "stream",
     "text": [
      "file1.txt and file2.txt: 7.2592%\n",
      "file1.txt and file3.txt: 17.9957%\n",
      "file2.txt and file3.txt: 95.9976%\n"
     ]
    }
   ],
   "source": [
    "# Practical 11 - Cosine Similarity\n",
    "\n",
    "import nltk\n",
    "from nltk.corpus import stopwords\n",
    "from collections import defaultdict\n",
    "import math\n",
    "\n",
    "def stopword_removal(filename):\n",
    "    stopwords_set = set(stopwords.words('english'))\n",
    "    with open(filename, 'r') as f:\n",
    "        text = f.read()\n",
    "        data = ''.join(char for char in text if char.isalnum() or char.isspace())\n",
    "        tokens = data.lower().split()\n",
    "        tokens = [token for token in tokens if token not in stopwords_set]\n",
    "    return tokens\n",
    "\n",
    "def get_tf(tokens):\n",
    "    tf = defaultdict(int)\n",
    "    for token in tokens: tf[token] += 1\n",
    "    return tf\n",
    "\n",
    "def get_idf(doc_tokens):\n",
    "    n = len(doc_tokens)\n",
    "    df = defaultdict(int)\n",
    "    for tokens in doc_tokens:\n",
    "        for token in set(tokens): df[token] += 1\n",
    "    idf = {}\n",
    "    for token, count in df.items(): idf[token] = math.log(n / count)\n",
    "    return idf\n",
    "\n",
    "def get_tfidf(tf, idf):\n",
    "    tfidf = defaultdict(int)\n",
    "    for token, freq in tf.items(): tfidf[token] = freq * idf[token]\n",
    "    return tfidf\n",
    "\n",
    "def cosine_similarity(vec1, vec2):\n",
    "    numerator = denominator = 0 \n",
    "    for qi, di in zip(vec1, vec2): numerator += (qi * di)\n",
    "    q = d = 0\n",
    "    for qi in vec1: q += (qi*qi)\n",
    "    for di in vec2: d += (di*di)\n",
    "    denominator = math.sqrt(q) * math.sqrt(d)\n",
    "    if numerator == 0 or denominator == 0: return 0\n",
    "    return numerator/denominator\n",
    "    \n",
    "def main():\n",
    "    n = 3\n",
    "    docs = [f'file{i}.txt' for i in range(1, n+1)]\n",
    "    all_tokens = [stopword_removal(doc) for doc in docs]\n",
    "    tfs = [get_tf(tokens) for tokens in all_tokens]\n",
    "    idfs = get_idf(all_tokens)\n",
    "    tfidfs = [get_tfidf(tf, idfs) for tf in tfs]\n",
    "    \n",
    "    vocabulary = set()\n",
    "    for tfidf in tfidfs: vocabulary.update(tfidf.keys())\n",
    "    vocabulary = list(vocabulary)\n",
    "    \n",
    "    vectors = []\n",
    "    for tfidf in tfidfs:\n",
    "        vector = [tfidf[token] for token in vocabulary]\n",
    "        vectors.append(vector)\n",
    "    \n",
    "    for i in range(n):\n",
    "        for j in range(i+1, n):\n",
    "            sim = cosine_similarity(vectors[i], vectors[j])\n",
    "            print(f\"{docs[i]} and {docs[j]}: {sim*100:.4f}%\")\n",
    "\n",
    "if __name__ == '__main__':\n",
    "    main()"
   ]
  },
  {
   "cell_type": "code",
   "execution_count": null,
   "id": "7698c265-4f17-4b77-84c8-114e54e3ca4c",
   "metadata": {},
   "outputs": [],
   "source": []
  }
 ],
 "metadata": {
  "kernelspec": {
   "display_name": "Python 3 (ipykernel)",
   "language": "python",
   "name": "python3"
  },
  "language_info": {
   "codemirror_mode": {
    "name": "ipython",
    "version": 3
   },
   "file_extension": ".py",
   "mimetype": "text/x-python",
   "name": "python",
   "nbconvert_exporter": "python",
   "pygments_lexer": "ipython3",
   "version": "3.12.8"
  }
 },
 "nbformat": 4,
 "nbformat_minor": 5
}
