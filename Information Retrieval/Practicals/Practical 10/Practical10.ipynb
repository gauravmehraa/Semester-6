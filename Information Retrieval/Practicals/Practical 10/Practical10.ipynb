{
 "cells": [
  {
   "cell_type": "code",
   "execution_count": 37,
   "id": "a3c199d8-804d-4ea2-b3e8-f035d6595f74",
   "metadata": {},
   "outputs": [
    {
     "name": "stdout",
     "output_type": "stream",
     "text": [
      "Depth[0] Crawling: https://mithibai.ac.in/\n",
      "Depth[1] Crawling: https://mithibai.ac.in/about-us/about-mithibai/\n",
      "Depth[1] Crawling: https://mithibai.ac.in/about-us/administration/\n",
      "Depth[1] Crawling: https://mithibai.ac.in/about-us/infrastructure/\n",
      "Depth[1] Crawling: https://mithibai.ac.in/statutory-body/academic-council/\n",
      "Depth[1] Crawling: https://mithibai.ac.in/statutory-body/board-of-studies/\n",
      "Depth[1] Crawling: https://mithibai.ac.in/statutory-body/governing-body/\n",
      "Depth[1] Crawling: https://mithibai.ac.in/statutory-body/college-development-committee/\n",
      "Depth[1] Crawling: https://mithibai.ac.in/statutory-body/finance-committee/\n",
      "Depth[1] Crawling: https://mithibai.ac.in/about-us/nirf/\n",
      "Depth[1] Crawling: https://mithibai.ac.in/admission-2/admission-notices/\n",
      "Depth[1] Crawling: https://mithibai.ac.in/departments/junior-college/\n",
      "Depth[1] Crawling: https://mithibai.ac.in/degree-college/\n",
      "Depth[1] Crawling: https://mithibai.ac.in/arts-department/\n",
      "Depth[1] Crawling: https://mithibai.ac.in/commerce-department/\n",
      "Depth[1] Crawling: https://mithibai.ac.in/science-department/\n",
      "Depth[1] Crawling: https://mithibai.ac.in/program\n",
      "Depth[1] Crawling: https://mithibai.ac.in/program/undergraduate\n",
      "Depth[1] Crawling: https://mithibai.ac.in/arts-undergraduate-programs/\n",
      "Depth[1] Crawling: https://mithibai.ac.in/commerce-undergraduate-programs/\n",
      "Depth[1] Crawling: https://mithibai.ac.in/science-undergraduate-programs/\n",
      "Depth[1] Crawling: https://mithibai.ac.in/program/postgraduate-programs\n",
      "Depth[1] Crawling: https://mithibai.ac.in/arts-postgraduate-programs/\n",
      "Depth[1] Crawling: https://mithibai.ac.in/commerce-postgraduate-programs/\n",
      "Depth[1] Crawling: https://mithibai.ac.in/science-postgraduate-programs/\n",
      "Depth[1] Crawling: https://mithibai.ac.in/academics/programs/ph-d/\n",
      "Depth[1] Crawling: https://mithibai.ac.in/arts-ph-d-programs/\n",
      "Depth[1] Crawling: https://mithibai.ac.in/commerce-ph-d-programs/\n",
      "Depth[1] Crawling: https://mithibai.ac.in/science-ph-d-programs/\n",
      "Depth[1] Crawling: https://mithibai.ac.in/academics/programs/certification-course/\n",
      "Depth[1] Crawling: https://mithibai.ac.in/academics/library/\n",
      "Depth[1] Crawling: https://mithibai.ac.in/academics/examination-guidelines/\n",
      "Depth[1] Crawling: https://mithibai.ac.in/academics/examination-guidelines/junior-college-examination-guidelines/\n",
      "Depth[1] Crawling: https://mithibai.ac.in/academics/examination-guidelines/degree-college-examination-guidelines/\n",
      "Depth[1] Crawling: https://mithibai.ac.in/academics/attendance-norms/\n",
      "Depth[1] Crawling: https://mithibai.ac.in/notices\n",
      "Depth[1] Crawling: https://mithibai.ac.in/training-and-placement/\n",
      "Depth[1] Crawling: https://mithibai.ac.in/aavishkar/\n",
      "Depth[1] Crawling: https://mithibai.ac.in/luminescence/\n",
      "Depth[1] Crawling: https://mithibai.ac.in/international-yoga-day/\n",
      "Depth[1] Crawling: https://mithibai.ac.in/sports/\n",
      "Depth[1] Crawling: https://mithibai.ac.in/alumni-association/\n",
      "Depth[1] Crawling: https://mithibai.ac.in/antiragging-committee/\n",
      "Depth[1] Crawling: https://mithibai.ac.in/internal-complaint-committee/\n",
      "Depth[1] Crawling: https://mithibai.ac.in/student-welfare-and-grievance-redressal-cell/\n",
      "Depth[1] Crawling: https://mithibai.ac.in/scholarships-freeship/\n",
      "Depth[1] Crawling: https://mithibai.ac.in/on-campus-doctors/\n",
      "Depth[1] Crawling: https://mithibai.ac.in/counselling/\n",
      "Depth[1] Crawling: https://mithibai.ac.in/useful-forms-for-students/\n"
     ]
    }
   ],
   "source": [
    "import requests\n",
    "from bs4 import BeautifulSoup\n",
    "from urllib.parse import urljoin\n",
    "\n",
    "def crawl(url, depth=0, visited=set()):\n",
    "    if url in visited: return\n",
    "    print(f\"Depth[{depth}] Crawling: {url}\")\n",
    "    visited.add(url)\n",
    "    try:\n",
    "        response = requests.get(url)\n",
    "        soup = BeautifulSoup(response.content, \"html.parser\")\n",
    "        for link in soup.find_all(\"a\", href=True):\n",
    "            if link[\"href\"].startswith(\"#\"): continue\n",
    "            new_url = urljoin(url, link[\"href\"])\n",
    "            if not new_url.startswith(url): return\n",
    "            crawl(new_url, depth + 1, visited)\n",
    "    except Exception as e:\n",
    "        print(\"Error:\", e)\n",
    "\n",
    "if __name__ == \"__main__\":\n",
    "    root = \"https://mithibai.ac.in/\"\n",
    "    crawl(root)"
   ]
  },
  {
   "cell_type": "code",
   "execution_count": null,
   "id": "ac2436a8-dc1a-406d-83a2-2df37d56599e",
   "metadata": {},
   "outputs": [],
   "source": []
  }
 ],
 "metadata": {
  "kernelspec": {
   "display_name": "Python 3 (ipykernel)",
   "language": "python",
   "name": "python3"
  },
  "language_info": {
   "codemirror_mode": {
    "name": "ipython",
    "version": 3
   },
   "file_extension": ".py",
   "mimetype": "text/x-python",
   "name": "python",
   "nbconvert_exporter": "python",
   "pygments_lexer": "ipython3",
   "version": "3.10.6"
  }
 },
 "nbformat": 4,
 "nbformat_minor": 5
}
