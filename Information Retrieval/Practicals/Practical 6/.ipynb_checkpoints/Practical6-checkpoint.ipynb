{
 "cells": [
  {
   "cell_type": "code",
   "execution_count": 31,
   "id": "d930a20e-5db6-44ef-a7e8-494c5d7e8ed5",
   "metadata": {},
   "outputs": [
    {
     "name": "stdout",
     "output_type": "stream",
     "text": [
      "HERMAN: H655\n",
      "HERMANN: H655\n",
      "ASHCROFT: A226\n",
      "ASHCRAFT: A226\n",
      "PFISTER: P123\n"
     ]
    }
   ],
   "source": [
    "# Practical 6 - Soundex Algorithm\n",
    "\n",
    "def soundex(s):\n",
    "    s = s.upper()\n",
    "    result = [s[0]]\n",
    "    mapping = {\n",
    "        ('A', 'E', 'I', 'O', 'U', 'H', 'W', 'Y'): '0',\n",
    "        ('B', 'F', 'P', 'V'): '1',\n",
    "        ('C', 'G', 'J', 'K', 'Q', 'S', 'X', 'Z'): '2',\n",
    "        ('D', 'T'): '3',\n",
    "        ('L'): '4',\n",
    "        ('M', 'N'): '5',\n",
    "        ('R'): '6',\n",
    "    }\n",
    "    \n",
    "    encoded = []\n",
    "    for char in s[1:]:\n",
    "        for key in mapping:\n",
    "            if char in key:\n",
    "                encoded.append(mapping[key])\n",
    "                break\n",
    "\n",
    "    filtered = []\n",
    "    for i in range(len(encoded)):\n",
    "        if i == 0 or encoded[i] != encoded[i - 1]:\n",
    "            filtered.append(encoded[i])\n",
    "\n",
    "    result += [char for char in filtered if char != '0']\n",
    "    while len(result) < 4: result.append('0')\n",
    "    return ''.join(result[:4])\n",
    "    \n",
    "\n",
    "words = [\"HERMAN\", \"HERMANN\", \"ASHCROFT\", \"ASHCRAFT\", \"PFISTER\"]\n",
    "for s in words:\n",
    "    print(f\"{s}: {soundex(s)}\")"
   ]
  },
  {
   "cell_type": "code",
   "execution_count": null,
   "id": "fbd79237-2278-45b7-a717-4cf5b786798d",
   "metadata": {},
   "outputs": [],
   "source": []
  }
 ],
 "metadata": {
  "kernelspec": {
   "display_name": "Python 3 (ipykernel)",
   "language": "python",
   "name": "python3"
  },
  "language_info": {
   "codemirror_mode": {
    "name": "ipython",
    "version": 3
   },
   "file_extension": ".py",
   "mimetype": "text/x-python",
   "name": "python",
   "nbconvert_exporter": "python",
   "pygments_lexer": "ipython3",
   "version": "3.12.8"
  }
 },
 "nbformat": 4,
 "nbformat_minor": 5
}
